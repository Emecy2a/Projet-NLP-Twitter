{
 "cells": [
  {
   "cell_type": "code",
   "execution_count": 22,
   "id": "f5d9b11e",
   "metadata": {},
   "outputs": [],
   "source": [
    "import tweepy\n",
    "from textblob import TextBlob\n",
    "from wordcloud import WordCloud\n",
    "import pandas as pd\n",
    "import numpy as np\n",
    "import re\n",
    "import matplotlib.pyplot as plt\n",
    "\n"
   ]
  },
  {
   "cell_type": "code",
   "execution_count": 23,
   "id": "bd262f2f",
   "metadata": {},
   "outputs": [],
   "source": [
    "# log = pd.read_json('../twitter_API.json')\n",
    "\n",
    "consumerKey = 'Q14WceuNyURjczW8zgTaowy07'\n",
    "consumerSecret = 'NBtafH472ftS1OB97moW3aE3Xz9Adt87x0L93PaGyQRsAmSTi8'\n",
    "accessToken = '1437704103015112704-ZLX6wn48ugf54s4UfW6wLSLGUGusQM'\n",
    "accessTokenSecret = '18iZa6eKf8kfqOajnapGbwlK4IyeiFakbSY1S7rCplgsI'\n"
   ]
  },
  {
   "cell_type": "code",
   "execution_count": 24,
   "id": "6bd5dd06",
   "metadata": {},
   "outputs": [],
   "source": [
    "auth = tweepy.OAuthHandler(consumerKey, consumerSecret)\n",
    "auth.set_access_token(accessToken, accessTokenSecret)\n",
    "api = tweepy.API(auth, wait_on_rate_limit = True)"
   ]
  },
  {
   "cell_type": "code",
   "execution_count": 25,
   "id": "40f80014",
   "metadata": {},
   "outputs": [],
   "source": [
    "account = 'peta'"
   ]
  },
  {
   "cell_type": "code",
   "execution_count": 26,
   "id": "c0a87dc9",
   "metadata": {},
   "outputs": [
    {
     "data": {
      "text/plain": [
       "array([24, 12, 53, 55, 20, 35, 17, 29, 19, 61])"
      ]
     },
     "execution_count": 26,
     "metadata": {},
     "output_type": "execute_result"
    }
   ],
   "source": [
    "tweets = tweepy.Cursor(api.search,\n",
    "                   q = account,\n",
    "                   tweet_mode='extended',\n",
    "                   lang='en',\n",
    "                   exclude_replies=True,).items(3250)\n",
    "\n",
    "likes=[]\n",
    "\n",
    "retweets=[]\n",
    "\n",
    "date=[]\n",
    "\n",
    "\n",
    "for tuit in tweepy.Cursor(api.user_timeline,screen_name= account).items(3250):\n",
    "    date.append(tuit.status.created_at)\n",
    "\n",
    "\n",
    "\n",
    "\n",
    "for tuit in tweepy.Cursor(api.user_timeline,screen_name= account).items(3250):\n",
    "    likes.append(tuit.favorite_count)\n",
    "    \n",
    "B = np.asarray(likes)\n",
    "ind = np.argpartition(B, -10)[-10:]\n",
    " \n",
    "B[ind]    \n",
    "    \n",
    "ind_min = np.argpartition(B, 10)[-10:]\n",
    "\n",
    "B[ind_min]\n",
    "    \n",
    "for rt in tweepy.Cursor(api.user_timeline,screen_name= account).items(3250):\n",
    "    retweets.append(rt.retweet_count)\n",
    "\n",
    "\n",
    "\n",
    "A = np.asarray(retweets)\n",
    "ind = np.argpartition(A, -10)[-10:]\n",
    " \n",
    "A[ind]\n",
    "\n",
    "\n",
    "ind_min = np.argpartition(A, 10)[-10:]\n",
    "\n",
    "A[ind_min]\n",
    "# ids = []\n",
    "# for page in tweepy.Cursor(api.followers_ids, screen_name=\"Tesla\").pages(1):\n",
    "#     ids.extend(page)\n",
    "\n",
    "    \n",
    "# for tweet in tweets:\n",
    "#     api.get_status(\n",
    "#         tweet.favorite_count,\n",
    "#         tweet.retweet_count\n",
    "#         )"
   ]
  },
  {
   "cell_type": "code",
   "execution_count": 27,
   "id": "0489243c",
   "metadata": {},
   "outputs": [
    {
     "data": {
      "text/plain": [
       "array([ 324,  324,  336,  336,  339,  339,  413,  407,  784, 4733])"
      ]
     },
     "execution_count": 27,
     "metadata": {},
     "output_type": "execute_result"
    }
   ],
   "source": [
    "A[ind]"
   ]
  },
  {
   "cell_type": "code",
   "execution_count": 28,
   "id": "45423d52",
   "metadata": {},
   "outputs": [
    {
     "data": {
      "text/plain": [
       "array([ 372,    0,  420,    0,    0,  511, 1315,  474, 1027, 9021])"
      ]
     },
     "execution_count": 28,
     "metadata": {},
     "output_type": "execute_result"
    }
   ],
   "source": [
    "B[ind]"
   ]
  },
  {
   "cell_type": "code",
   "execution_count": 29,
   "id": "b8e06b8b",
   "metadata": {},
   "outputs": [],
   "source": [
    "#dataframe['Places'] = places\n",
    "#df['newcol'] = arr.toarray().tolist()\n"
   ]
  },
  {
   "cell_type": "code",
   "execution_count": null,
   "id": "ad532b87",
   "metadata": {},
   "outputs": [],
   "source": [
    "df = pd.DataFrame(data=[tweet.full_text for tweet in tweets], columns=['tweets'])\n",
    "df.head(10)"
   ]
  },
  {
   "cell_type": "code",
   "execution_count": null,
   "id": "99e0a35a",
   "metadata": {},
   "outputs": [],
   "source": [
    "# df['likes'] = B.tolist()\n",
    "# df['retweets'] = A.tolist()\n",
    "\n",
    "\n",
    "def getSubjectivity(text):\n",
    "    return TextBlob(text).sentiment.subjectivity\n",
    "\n",
    " \n",
    "\n",
    "def getPolarity(text):\n",
    "    return TextBlob(text).sentiment.polarity\n",
    "\n",
    " \n",
    "\n",
    "# def getAnalysis(score):\n",
    "#     if score < 0:\n",
    "#         return -1\n",
    "#     elif score == 0:\n",
    "#         return 0\n",
    "#     else:\n",
    "#         return 1\n",
    "    \n",
    "df['Subjectivity'] = df['tweets'].apply(getSubjectivity)\n",
    "df['Polarity'] = df['tweets'].apply(getPolarity)\n",
    "# df['Analysis'] = df['Polarity'].apply(getAnalysis)\n",
    "df['Likes'] = likes\n",
    "df['Retweets'] = retweets\n",
    "\n",
    " \n",
    "\n",
    "df"
   ]
  },
  {
   "cell_type": "markdown",
   "id": "69f57aa6",
   "metadata": {},
   "source": [
    "## Data Cleaning"
   ]
  },
  {
   "cell_type": "code",
   "execution_count": null,
   "id": "93bb7c52",
   "metadata": {},
   "outputs": [],
   "source": [
    "df.head(15)"
   ]
  },
  {
   "cell_type": "code",
   "execution_count": null,
   "id": "e46e00ea",
   "metadata": {},
   "outputs": [],
   "source": [
    "def cleanTxt(text):\n",
    "    text = re.sub(r'@[A-Za-z0-9]+', '', text) # removes @mentions\n",
    "    text = re.sub(r'#', '', text) # removes hashtag symbols\n",
    "    text = re.sub(r'RT[\\s]+', '', text) # removes RT\n",
    "    text = re.sub(r'https?:\\/\\/\\S+', '', text) # removes hyperlinks\n",
    "    \n",
    "    return text\n",
    "\n",
    "df['tweets'] = df['tweets'].apply(cleanTxt)\n",
    "df"
   ]
  },
  {
   "cell_type": "markdown",
   "id": "f820435f",
   "metadata": {},
   "source": [
    "## Word Cloud"
   ]
  },
  {
   "cell_type": "code",
   "execution_count": null,
   "id": "b494c87c",
   "metadata": {},
   "outputs": [],
   "source": [
    "allWords = ' '.join([twts for twts in df['tweets']])\n",
    "wordCloud = WordCloud(width=500, height=300, random_state=21, max_font_size=119).generate(allWords)\n",
    "\n",
    "plt.imshow(wordCloud, interpolation='bilinear')\n",
    "plt.axis('off')\n",
    "plt.show()"
   ]
  },
  {
   "cell_type": "markdown",
   "id": "27be3bc5",
   "metadata": {},
   "source": [
    "## Subjectivity and Polarity"
   ]
  },
  {
   "cell_type": "code",
   "execution_count": null,
   "id": "7b3d73b7",
   "metadata": {},
   "outputs": [],
   "source": [
    "def getSubjectivity(text):\n",
    "    return TextBlob(text).sentiment.subjectivity\n",
    "\n",
    "def getPolarity(text):\n",
    "    return TextBlob(text).sentiment.polarity\n",
    "\n",
    "def getAnalysis(score):\n",
    "    if score < 0:\n",
    "        return -1\n",
    "    elif score == 0:\n",
    "        return 0\n",
    "    else:\n",
    "        return 1\n",
    "    \n",
    "df['Subjectivity'] = df['tweets'].apply(getSubjectivity)\n",
    "df['Polarity'] = df['tweets'].apply(getPolarity)\n",
    "#df['Analysis'] = df['Polarity'].apply(getAnalysis)\n",
    "\n",
    "df"
   ]
  },
  {
   "cell_type": "markdown",
   "id": "c6ea20c7",
   "metadata": {},
   "source": [
    "## Sentiment Analysis"
   ]
  },
  {
   "cell_type": "code",
   "execution_count": null,
   "id": "e08a4576",
   "metadata": {},
   "outputs": [],
   "source": [
    "plt.figure(figsize=(8,6))\n",
    "for i in range(0, df.shape[0]):\n",
    "    plt.scatter(df['Polarity'][i], df['Subjectivity'][i], color='Blue')\n",
    "    \n",
    "plt.title('Sentiment Analysis')\n",
    "plt.xlabel('Polarity')\n",
    "plt.ylabel('Subjectivity')\n",
    "plt.show()"
   ]
  },
  {
   "cell_type": "code",
   "execution_count": null,
   "id": "0d6da452",
   "metadata": {},
   "outputs": [],
   "source": [
    "df.to_csv(r'NewValues.csv', index = False)"
   ]
  },
  {
   "cell_type": "code",
   "execution_count": null,
   "id": "92c8c2c4",
   "metadata": {},
   "outputs": [],
   "source": [
    "df.head(10)"
   ]
  },
  {
   "cell_type": "code",
   "execution_count": null,
   "id": "62c38833",
   "metadata": {},
   "outputs": [],
   "source": [
    "X= df['Subjectivity']\n",
    "\n",
    "y=df['Polarity']"
   ]
  },
  {
   "cell_type": "code",
   "execution_count": null,
   "id": "ffdfcd48",
   "metadata": {},
   "outputs": [],
   "source": [
    "from sklearn.cluster import KMeans"
   ]
  },
  {
   "cell_type": "code",
   "execution_count": null,
   "id": "07dbaafd",
   "metadata": {},
   "outputs": [],
   "source": [
    " kmeans = KMeans(\n",
    "    init=\"random\",\n",
    "    n_clusters=3,\n",
    "    n_init=10,\n",
    "    max_iter=300,\n",
    "    random_state=42\n",
    " )"
   ]
  },
  {
   "cell_type": "code",
   "execution_count": null,
   "id": "5facbf62",
   "metadata": {},
   "outputs": [],
   "source": [
    "X = X.reshape(-1, 1)\n",
    "kmeans.fit(X)"
   ]
  },
  {
   "cell_type": "code",
   "execution_count": null,
   "id": "d890212b",
   "metadata": {},
   "outputs": [],
   "source": [
    "# The lowest SSE value\n",
    "kmeans.inertia_"
   ]
  },
  {
   "cell_type": "code",
   "execution_count": null,
   "id": "43471fa3",
   "metadata": {},
   "outputs": [],
   "source": [
    "# Final locations of the centroid\n",
    "kmeans.cluster_centers_"
   ]
  },
  {
   "cell_type": "code",
   "execution_count": null,
   "id": "8bb5ab1b",
   "metadata": {},
   "outputs": [],
   "source": [
    "# The number of iterations required to converge\n",
    "kmeans.n_iter_"
   ]
  },
  {
   "cell_type": "code",
   "execution_count": null,
   "id": "ec2338f0",
   "metadata": {},
   "outputs": [],
   "source": [
    "from sklearn.metrics import silhouette_score\n",
    "#Determine number of cluster by Silouhette Coefficient\n",
    "kmeans_kwargs = {\n",
    "    \"init\": \"random\",\n",
    "    \"n_init\": 10,\n",
    "    \"max_iter\": 300,\n",
    "    \"random_state\": 42,\n",
    "    }\n",
    "\n",
    " # A list holds the SSE values for each k\n",
    "sse = []\n",
    "for k in range(1, 11):\n",
    "    kmeans = KMeans(n_clusters=k, **kmeans_kwargs)\n",
    "    kmeans.fit(X)\n",
    "    sse.append(kmeans.inertia_)"
   ]
  },
  {
   "cell_type": "code",
   "execution_count": null,
   "id": "1d6bd831",
   "metadata": {},
   "outputs": [],
   "source": [
    "\n",
    "\n",
    "# A list holds the silhouette coefficients for each k\n",
    "silhouette_coefficients = []\n",
    "\n",
    " # Notice you start at 2 clusters for silhouette coefficient\n",
    "for k in range(2, 30):\n",
    "    kmeans = KMeans(n_clusters=k, **kmeans_kwargs)\n",
    "    kmeans.fit(X)\n",
    "    score = silhouette_score(X, kmeans.labels_)\n",
    "    silhouette_coefficients.append(score)"
   ]
  },
  {
   "cell_type": "code",
   "execution_count": null,
   "id": "5ac2e026",
   "metadata": {},
   "outputs": [],
   "source": [
    "plt.style.use(\"fivethirtyeight\")\n",
    "plt.plot(range(2, 11), silhouette_coefficients)\n",
    "plt.xticks(range(2, 11))\n",
    "plt.xlabel(\"Number of Clusters\")\n",
    "plt.ylabel(\"Silhouette Coefficient\")\n",
    "plt.show()"
   ]
  },
  {
   "cell_type": "code",
   "execution_count": null,
   "id": "459e4cec",
   "metadata": {},
   "outputs": [],
   "source": [
    "#Best k = 10"
   ]
  },
  {
   "cell_type": "code",
   "execution_count": null,
   "id": "2ae30d1b",
   "metadata": {},
   "outputs": [],
   "source": [
    "from sklearn.metrics import classification_report\n",
    "from sklearn.metrics import confusion_matrix\n",
    "from sklearn.metrics import accuracy_score\n",
    "from sklearn.neighbors import KNeighborsClassifier\n",
    "from sklearn import svm\n",
    "from sklearn.svm import SVC\n",
    "from sklearn.feature_selection import VarianceThreshold # Feature selector\n",
    "from sklearn.pipeline import Pipeline # For setting up pipeline"
   ]
  },
  {
   "cell_type": "code",
   "execution_count": null,
   "id": "6ad8cadc",
   "metadata": {},
   "outputs": [],
   "source": []
  },
  {
   "cell_type": "code",
   "execution_count": null,
   "id": "c6906856",
   "metadata": {},
   "outputs": [],
   "source": [
    "X_train, X_test, y_train, y_test = train_test_split(\n",
    "    X,  \n",
    "    y, \n",
    "    test_size=1/3,\n",
    "    random_state=0)"
   ]
  },
  {
   "cell_type": "code",
   "execution_count": null,
   "id": "f485e855",
   "metadata": {},
   "outputs": [],
   "source": [
    "#Pipeline testing\n",
    "\n",
    "# pipe = Pipeline([\n",
    "# ('scaler', StandardScaler()),\n",
    "# ('selector', VarianceThreshold()),\n",
    "# ('classifier', KNeighborsClassifier())\n",
    "# ])"
   ]
  },
  {
   "cell_type": "code",
   "execution_count": null,
   "id": "8a770e9d",
   "metadata": {},
   "outputs": [],
   "source": [
    "\n",
    "from pandas import read_csv                                \n",
    "from numpy import ravel                     \n",
    "import seaborn as sns                                     # For plotting data\n",
    "\n",
    "from sklearn.neighbors import KNeighborsClassifier    # The k-nearest neighbor classifier\n",
    "from sklearn.feature_selection import VarianceThreshold # Feature selector\n",
    "from sklearn.pipeline import Pipeline                                  # For setting up pipeline\n",
    "# Various pre-processing steps\n",
    "from sklearn.preprocessing import Normalizer, StandardScaler, MinMaxScaler, PowerTransformer, MaxAbsScaler, LabelEncoder\n",
    "from sklearn.model_selection import GridSearchCV"
   ]
  },
  {
   "cell_type": "code",
   "execution_count": null,
   "id": "8551b1c3",
   "metadata": {},
   "outputs": [],
   "source": [
    "# Encode the labels into unique integers\n",
    "encoder = LabelEncoder()\n",
    "y = encoder.fit_transform(ravel(y))\n",
    " \n",
    "# Split the data into test and train\n",
    "X_train, X_test, y_train, y_test = train_test_split(\n",
    "    X,\n",
    "    y,\n",
    "    test_size=1/3,\n",
    "    random_state=0)\n",
    " \n",
    "print(X_train.shape)\n",
    "print(X_test.shape)\n",
    " \n",
    "knn = KNeighborsClassifier().fit(X_train, y_train)\n",
    "print('Training set score: ' + str(knn.score(X_train,y_train)))\n",
    "print('Test set score: ' + str(knn.score(X_test,y_test)))\n",
    " \n",
    "pipe = Pipeline([\n",
    "('scaler', StandardScaler()),\n",
    "('selector', VarianceThreshold()),\n",
    "('classifier', KNeighborsClassifier())\n",
    "])\n",
    " \n",
    "pipe.fit(X_train, y_train)\n",
    " \n",
    "print('Training set score: ' + str(pipe.score(X_train,y_train)))\n",
    "print('Test set score: ' + str(pipe.score(X_test,y_test)))\n",
    " \n",
    "parameters = {'scaler': [StandardScaler(), MinMaxScaler(),\n",
    "\tNormalizer(), MaxAbsScaler()],\n",
    "\t'selector__threshold': [0, 0.001, 0.01],\n",
    "\t'classifier__n_neighbors': [1, 3, 5, 7, 10],\n",
    "\t'classifier__p': [1, 2],\n",
    "\t'classifier__leaf_size': [1, 5, 10, 15]\n",
    "}\n",
    " \n",
    "grid = GridSearchCV(pipe, parameters, cv=2).fit(X_train, y_train)\n",
    " \n",
    "print('Training set score: ' + str(grid.score(X_train, y_train)))\n",
    "print('Test set score: ' + str(grid.score(X_test, y_test)))\n",
    " \n",
    "# Access the best set of parameters\n",
    "best_params = grid.best_params_\n",
    "print(best_params)\n",
    "# Stores the optimum model in best_pipe\n",
    "best_pipe = grid.best_estimator_\n",
    "print(best_pipe)\n",
    " \n",
    "result_df = DataFrame.from_dict(grid.cv_results_, orient='columns')\n",
    "print(result_df.columns)\n",
    " \n",
    "sns.relplot(data=result_df,\n",
    "\tkind='line',\n",
    "\tx='param_classifier__n_neighbors',\n",
    "\ty='mean_test_score',\n",
    "\thue='param_scaler',\n",
    "\tcol='param_classifier__p')\n",
    "plt.show()\n",
    " \n",
    "sns.relplot(data=result_df,\n",
    "            kind='line',\n",
    "            x='param_classifier__n_neighbors',\n",
    "            y='mean_test_score',\n",
    "            hue='param_scaler',\n",
    "            col='param_classifier__leaf_size')\n",
    "plt.show()"
   ]
  },
  {
   "cell_type": "code",
   "execution_count": null,
   "id": "e37a5ae2",
   "metadata": {},
   "outputs": [],
   "source": []
  },
  {
   "cell_type": "code",
   "execution_count": null,
   "id": "8b483270",
   "metadata": {},
   "outputs": [],
   "source": []
  }
 ],
 "metadata": {
  "kernelspec": {
   "display_name": "Python 3 (ipykernel)",
   "language": "python",
   "name": "python3"
  },
  "language_info": {
   "codemirror_mode": {
    "name": "ipython",
    "version": 3
   },
   "file_extension": ".py",
   "mimetype": "text/x-python",
   "name": "python",
   "nbconvert_exporter": "python",
   "pygments_lexer": "ipython3",
   "version": "3.9.7"
  }
 },
 "nbformat": 4,
 "nbformat_minor": 5
}
